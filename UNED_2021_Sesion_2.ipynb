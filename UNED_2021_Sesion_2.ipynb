{
  "nbformat": 4,
  "nbformat_minor": 0,
  "metadata": {
    "kernelspec": {
      "display_name": "Python 3",
      "language": "python",
      "name": "python3"
    },
    "language_info": {
      "codemirror_mode": {
        "name": "ipython",
        "version": 3
      },
      "file_extension": ".py",
      "mimetype": "text/x-python",
      "name": "python",
      "nbconvert_exporter": "python",
      "pygments_lexer": "ipython3",
      "version": "3.6.7"
    },
    "colab": {
      "name": "UNED_2021_Sesion 2.ipynb",
      "provenance": [],
      "collapsed_sections": []
    }
  },
  "cells": [
    {
      "cell_type": "markdown",
      "metadata": {
        "id": "GQooAwtWpGls"
      },
      "source": [
        "# **UNIVERSIDAD ESTATAL A DISTANCIA**\n",
        "TALLER INTRODUCCION A CIENCIA DE DATOS\n",
        "\n",
        "**SESION #2**"
      ]
    },
    {
      "cell_type": "markdown",
      "metadata": {
        "id": "iqmnFrK_l0Vx"
      },
      "source": [
        "# Preprocesamiento de datos - Caso TITANIC"
      ]
    },
    {
      "cell_type": "code",
      "metadata": {
        "id": "-xtC5ezTl0Vx"
      },
      "source": [
        "import numpy as np\n",
        "import pandas as pd"
      ],
      "execution_count": 1,
      "outputs": []
    },
    {
      "cell_type": "code",
      "metadata": {
        "id": "Aebi-U80l0Vx"
      },
      "source": [
        " data =  pd.read_csv('https://raw.githubusercontent.com/NataliaGRC/UNED/master/titanic.csv')\n"
      ],
      "execution_count": 2,
      "outputs": []
    },
    {
      "cell_type": "code",
      "metadata": {
        "colab": {
          "base_uri": "https://localhost:8080/"
        },
        "id": "2K2OtRq3l0Vx",
        "outputId": "5ac37f62-57a1-4e3e-cec9-cbfc2d2fb665"
      },
      "source": [
        "data.shape"
      ],
      "execution_count": 3,
      "outputs": [
        {
          "output_type": "execute_result",
          "data": {
            "text/plain": [
              "(891, 12)"
            ]
          },
          "metadata": {
            "tags": []
          },
          "execution_count": 3
        }
      ]
    },
    {
      "cell_type": "code",
      "metadata": {
        "colab": {
          "base_uri": "https://localhost:8080/",
          "height": 662
        },
        "id": "Vbj3czSPl0Vx",
        "outputId": "21a7429a-3218-45b6-979a-8b935e8f5a39"
      },
      "source": [
        "data.head(20)"
      ],
      "execution_count": 4,
      "outputs": [
        {
          "output_type": "execute_result",
          "data": {
            "text/html": [
              "<div>\n",
              "<style scoped>\n",
              "    .dataframe tbody tr th:only-of-type {\n",
              "        vertical-align: middle;\n",
              "    }\n",
              "\n",
              "    .dataframe tbody tr th {\n",
              "        vertical-align: top;\n",
              "    }\n",
              "\n",
              "    .dataframe thead th {\n",
              "        text-align: right;\n",
              "    }\n",
              "</style>\n",
              "<table border=\"1\" class=\"dataframe\">\n",
              "  <thead>\n",
              "    <tr style=\"text-align: right;\">\n",
              "      <th></th>\n",
              "      <th>PassengerId</th>\n",
              "      <th>Survived</th>\n",
              "      <th>Pclass</th>\n",
              "      <th>Name</th>\n",
              "      <th>Sex</th>\n",
              "      <th>Age</th>\n",
              "      <th>SibSp</th>\n",
              "      <th>Parch</th>\n",
              "      <th>Ticket</th>\n",
              "      <th>Fare</th>\n",
              "      <th>Cabin</th>\n",
              "      <th>Embarked</th>\n",
              "    </tr>\n",
              "  </thead>\n",
              "  <tbody>\n",
              "    <tr>\n",
              "      <th>0</th>\n",
              "      <td>1</td>\n",
              "      <td>0</td>\n",
              "      <td>3</td>\n",
              "      <td>Braund, Mr. Owen Harris</td>\n",
              "      <td>male</td>\n",
              "      <td>22.0</td>\n",
              "      <td>1</td>\n",
              "      <td>0</td>\n",
              "      <td>A/5 21171</td>\n",
              "      <td>7.2500</td>\n",
              "      <td>NaN</td>\n",
              "      <td>S</td>\n",
              "    </tr>\n",
              "    <tr>\n",
              "      <th>1</th>\n",
              "      <td>2</td>\n",
              "      <td>1</td>\n",
              "      <td>1</td>\n",
              "      <td>Cumings, Mrs. John Bradley (Florence Briggs Th...</td>\n",
              "      <td>female</td>\n",
              "      <td>38.0</td>\n",
              "      <td>1</td>\n",
              "      <td>0</td>\n",
              "      <td>PC 17599</td>\n",
              "      <td>71.2833</td>\n",
              "      <td>C85</td>\n",
              "      <td>C</td>\n",
              "    </tr>\n",
              "    <tr>\n",
              "      <th>2</th>\n",
              "      <td>3</td>\n",
              "      <td>1</td>\n",
              "      <td>3</td>\n",
              "      <td>Heikkinen, Miss. Laina</td>\n",
              "      <td>female</td>\n",
              "      <td>26.0</td>\n",
              "      <td>0</td>\n",
              "      <td>0</td>\n",
              "      <td>STON/O2. 3101282</td>\n",
              "      <td>7.9250</td>\n",
              "      <td>NaN</td>\n",
              "      <td>S</td>\n",
              "    </tr>\n",
              "    <tr>\n",
              "      <th>3</th>\n",
              "      <td>4</td>\n",
              "      <td>1</td>\n",
              "      <td>1</td>\n",
              "      <td>Futrelle, Mrs. Jacques Heath (Lily May Peel)</td>\n",
              "      <td>female</td>\n",
              "      <td>35.0</td>\n",
              "      <td>1</td>\n",
              "      <td>0</td>\n",
              "      <td>113803</td>\n",
              "      <td>53.1000</td>\n",
              "      <td>C123</td>\n",
              "      <td>S</td>\n",
              "    </tr>\n",
              "    <tr>\n",
              "      <th>4</th>\n",
              "      <td>5</td>\n",
              "      <td>0</td>\n",
              "      <td>3</td>\n",
              "      <td>Allen, Mr. William Henry</td>\n",
              "      <td>male</td>\n",
              "      <td>35.0</td>\n",
              "      <td>0</td>\n",
              "      <td>0</td>\n",
              "      <td>373450</td>\n",
              "      <td>8.0500</td>\n",
              "      <td>NaN</td>\n",
              "      <td>S</td>\n",
              "    </tr>\n",
              "    <tr>\n",
              "      <th>5</th>\n",
              "      <td>6</td>\n",
              "      <td>0</td>\n",
              "      <td>3</td>\n",
              "      <td>Moran, Mr. James</td>\n",
              "      <td>male</td>\n",
              "      <td>NaN</td>\n",
              "      <td>0</td>\n",
              "      <td>0</td>\n",
              "      <td>330877</td>\n",
              "      <td>8.4583</td>\n",
              "      <td>NaN</td>\n",
              "      <td>Q</td>\n",
              "    </tr>\n",
              "    <tr>\n",
              "      <th>6</th>\n",
              "      <td>7</td>\n",
              "      <td>0</td>\n",
              "      <td>1</td>\n",
              "      <td>McCarthy, Mr. Timothy J</td>\n",
              "      <td>male</td>\n",
              "      <td>54.0</td>\n",
              "      <td>0</td>\n",
              "      <td>0</td>\n",
              "      <td>17463</td>\n",
              "      <td>51.8625</td>\n",
              "      <td>E46</td>\n",
              "      <td>S</td>\n",
              "    </tr>\n",
              "    <tr>\n",
              "      <th>7</th>\n",
              "      <td>8</td>\n",
              "      <td>0</td>\n",
              "      <td>3</td>\n",
              "      <td>Palsson, Master. Gosta Leonard</td>\n",
              "      <td>male</td>\n",
              "      <td>2.0</td>\n",
              "      <td>3</td>\n",
              "      <td>1</td>\n",
              "      <td>349909</td>\n",
              "      <td>21.0750</td>\n",
              "      <td>NaN</td>\n",
              "      <td>S</td>\n",
              "    </tr>\n",
              "    <tr>\n",
              "      <th>8</th>\n",
              "      <td>9</td>\n",
              "      <td>1</td>\n",
              "      <td>3</td>\n",
              "      <td>Johnson, Mrs. Oscar W (Elisabeth Vilhelmina Berg)</td>\n",
              "      <td>female</td>\n",
              "      <td>27.0</td>\n",
              "      <td>0</td>\n",
              "      <td>2</td>\n",
              "      <td>347742</td>\n",
              "      <td>11.1333</td>\n",
              "      <td>NaN</td>\n",
              "      <td>S</td>\n",
              "    </tr>\n",
              "    <tr>\n",
              "      <th>9</th>\n",
              "      <td>10</td>\n",
              "      <td>1</td>\n",
              "      <td>2</td>\n",
              "      <td>Nasser, Mrs. Nicholas (Adele Achem)</td>\n",
              "      <td>female</td>\n",
              "      <td>14.0</td>\n",
              "      <td>1</td>\n",
              "      <td>0</td>\n",
              "      <td>237736</td>\n",
              "      <td>30.0708</td>\n",
              "      <td>NaN</td>\n",
              "      <td>C</td>\n",
              "    </tr>\n",
              "    <tr>\n",
              "      <th>10</th>\n",
              "      <td>11</td>\n",
              "      <td>1</td>\n",
              "      <td>3</td>\n",
              "      <td>Sandstrom, Miss. Marguerite Rut</td>\n",
              "      <td>female</td>\n",
              "      <td>4.0</td>\n",
              "      <td>1</td>\n",
              "      <td>1</td>\n",
              "      <td>PP 9549</td>\n",
              "      <td>16.7000</td>\n",
              "      <td>G6</td>\n",
              "      <td>S</td>\n",
              "    </tr>\n",
              "    <tr>\n",
              "      <th>11</th>\n",
              "      <td>12</td>\n",
              "      <td>1</td>\n",
              "      <td>1</td>\n",
              "      <td>Bonnell, Miss. Elizabeth</td>\n",
              "      <td>female</td>\n",
              "      <td>58.0</td>\n",
              "      <td>0</td>\n",
              "      <td>0</td>\n",
              "      <td>113783</td>\n",
              "      <td>26.5500</td>\n",
              "      <td>C103</td>\n",
              "      <td>S</td>\n",
              "    </tr>\n",
              "    <tr>\n",
              "      <th>12</th>\n",
              "      <td>13</td>\n",
              "      <td>0</td>\n",
              "      <td>3</td>\n",
              "      <td>Saundercock, Mr. William Henry</td>\n",
              "      <td>male</td>\n",
              "      <td>20.0</td>\n",
              "      <td>0</td>\n",
              "      <td>0</td>\n",
              "      <td>A/5. 2151</td>\n",
              "      <td>8.0500</td>\n",
              "      <td>NaN</td>\n",
              "      <td>S</td>\n",
              "    </tr>\n",
              "    <tr>\n",
              "      <th>13</th>\n",
              "      <td>14</td>\n",
              "      <td>0</td>\n",
              "      <td>3</td>\n",
              "      <td>Andersson, Mr. Anders Johan</td>\n",
              "      <td>male</td>\n",
              "      <td>39.0</td>\n",
              "      <td>1</td>\n",
              "      <td>5</td>\n",
              "      <td>347082</td>\n",
              "      <td>31.2750</td>\n",
              "      <td>NaN</td>\n",
              "      <td>S</td>\n",
              "    </tr>\n",
              "    <tr>\n",
              "      <th>14</th>\n",
              "      <td>15</td>\n",
              "      <td>0</td>\n",
              "      <td>3</td>\n",
              "      <td>Vestrom, Miss. Hulda Amanda Adolfina</td>\n",
              "      <td>female</td>\n",
              "      <td>14.0</td>\n",
              "      <td>0</td>\n",
              "      <td>0</td>\n",
              "      <td>350406</td>\n",
              "      <td>7.8542</td>\n",
              "      <td>NaN</td>\n",
              "      <td>S</td>\n",
              "    </tr>\n",
              "    <tr>\n",
              "      <th>15</th>\n",
              "      <td>16</td>\n",
              "      <td>1</td>\n",
              "      <td>2</td>\n",
              "      <td>Hewlett, Mrs. (Mary D Kingcome)</td>\n",
              "      <td>female</td>\n",
              "      <td>55.0</td>\n",
              "      <td>0</td>\n",
              "      <td>0</td>\n",
              "      <td>248706</td>\n",
              "      <td>16.0000</td>\n",
              "      <td>NaN</td>\n",
              "      <td>S</td>\n",
              "    </tr>\n",
              "    <tr>\n",
              "      <th>16</th>\n",
              "      <td>17</td>\n",
              "      <td>0</td>\n",
              "      <td>3</td>\n",
              "      <td>Rice, Master. Eugene</td>\n",
              "      <td>male</td>\n",
              "      <td>2.0</td>\n",
              "      <td>4</td>\n",
              "      <td>1</td>\n",
              "      <td>382652</td>\n",
              "      <td>29.1250</td>\n",
              "      <td>NaN</td>\n",
              "      <td>Q</td>\n",
              "    </tr>\n",
              "    <tr>\n",
              "      <th>17</th>\n",
              "      <td>18</td>\n",
              "      <td>1</td>\n",
              "      <td>2</td>\n",
              "      <td>Williams, Mr. Charles Eugene</td>\n",
              "      <td>male</td>\n",
              "      <td>NaN</td>\n",
              "      <td>0</td>\n",
              "      <td>0</td>\n",
              "      <td>244373</td>\n",
              "      <td>13.0000</td>\n",
              "      <td>NaN</td>\n",
              "      <td>S</td>\n",
              "    </tr>\n",
              "    <tr>\n",
              "      <th>18</th>\n",
              "      <td>19</td>\n",
              "      <td>0</td>\n",
              "      <td>3</td>\n",
              "      <td>Vander Planke, Mrs. Julius (Emelia Maria Vande...</td>\n",
              "      <td>female</td>\n",
              "      <td>31.0</td>\n",
              "      <td>1</td>\n",
              "      <td>0</td>\n",
              "      <td>345763</td>\n",
              "      <td>18.0000</td>\n",
              "      <td>NaN</td>\n",
              "      <td>S</td>\n",
              "    </tr>\n",
              "    <tr>\n",
              "      <th>19</th>\n",
              "      <td>20</td>\n",
              "      <td>1</td>\n",
              "      <td>3</td>\n",
              "      <td>Masselmani, Mrs. Fatima</td>\n",
              "      <td>female</td>\n",
              "      <td>NaN</td>\n",
              "      <td>0</td>\n",
              "      <td>0</td>\n",
              "      <td>2649</td>\n",
              "      <td>7.2250</td>\n",
              "      <td>NaN</td>\n",
              "      <td>C</td>\n",
              "    </tr>\n",
              "  </tbody>\n",
              "</table>\n",
              "</div>"
            ],
            "text/plain": [
              "    PassengerId  Survived  Pclass  ...     Fare Cabin  Embarked\n",
              "0             1         0       3  ...   7.2500   NaN         S\n",
              "1             2         1       1  ...  71.2833   C85         C\n",
              "2             3         1       3  ...   7.9250   NaN         S\n",
              "3             4         1       1  ...  53.1000  C123         S\n",
              "4             5         0       3  ...   8.0500   NaN         S\n",
              "5             6         0       3  ...   8.4583   NaN         Q\n",
              "6             7         0       1  ...  51.8625   E46         S\n",
              "7             8         0       3  ...  21.0750   NaN         S\n",
              "8             9         1       3  ...  11.1333   NaN         S\n",
              "9            10         1       2  ...  30.0708   NaN         C\n",
              "10           11         1       3  ...  16.7000    G6         S\n",
              "11           12         1       1  ...  26.5500  C103         S\n",
              "12           13         0       3  ...   8.0500   NaN         S\n",
              "13           14         0       3  ...  31.2750   NaN         S\n",
              "14           15         0       3  ...   7.8542   NaN         S\n",
              "15           16         1       2  ...  16.0000   NaN         S\n",
              "16           17         0       3  ...  29.1250   NaN         Q\n",
              "17           18         1       2  ...  13.0000   NaN         S\n",
              "18           19         0       3  ...  18.0000   NaN         S\n",
              "19           20         1       3  ...   7.2250   NaN         C\n",
              "\n",
              "[20 rows x 12 columns]"
            ]
          },
          "metadata": {
            "tags": []
          },
          "execution_count": 4
        }
      ]
    },
    {
      "cell_type": "markdown",
      "metadata": {
        "id": "M0Pp9pvPl0Vx"
      },
      "source": [
        "Podemos seleccionar el arreglo de columas que sean de nuestro interés:"
      ]
    },
    {
      "cell_type": "code",
      "metadata": {
        "id": "RlDI5hBcl0Vx"
      },
      "source": [
        "cols_to_use = ['Pclass', 'Sex', 'Age','Fare','Survived']"
      ],
      "execution_count": 5,
      "outputs": []
    },
    {
      "cell_type": "code",
      "metadata": {
        "id": "s3vCmAkTl0Vx"
      },
      "source": [
        "data = data[cols_to_use]"
      ],
      "execution_count": 6,
      "outputs": []
    },
    {
      "cell_type": "code",
      "metadata": {
        "colab": {
          "base_uri": "https://localhost:8080/",
          "height": 355
        },
        "id": "UPBlMxWgl0Vx",
        "outputId": "d2dfbcf8-b722-4ed3-a5a2-0fea1235d2cd"
      },
      "source": [
        "data.head(10)"
      ],
      "execution_count": 7,
      "outputs": [
        {
          "output_type": "execute_result",
          "data": {
            "text/html": [
              "<div>\n",
              "<style scoped>\n",
              "    .dataframe tbody tr th:only-of-type {\n",
              "        vertical-align: middle;\n",
              "    }\n",
              "\n",
              "    .dataframe tbody tr th {\n",
              "        vertical-align: top;\n",
              "    }\n",
              "\n",
              "    .dataframe thead th {\n",
              "        text-align: right;\n",
              "    }\n",
              "</style>\n",
              "<table border=\"1\" class=\"dataframe\">\n",
              "  <thead>\n",
              "    <tr style=\"text-align: right;\">\n",
              "      <th></th>\n",
              "      <th>Pclass</th>\n",
              "      <th>Sex</th>\n",
              "      <th>Age</th>\n",
              "      <th>Fare</th>\n",
              "      <th>Survived</th>\n",
              "    </tr>\n",
              "  </thead>\n",
              "  <tbody>\n",
              "    <tr>\n",
              "      <th>0</th>\n",
              "      <td>3</td>\n",
              "      <td>male</td>\n",
              "      <td>22.0</td>\n",
              "      <td>7.2500</td>\n",
              "      <td>0</td>\n",
              "    </tr>\n",
              "    <tr>\n",
              "      <th>1</th>\n",
              "      <td>1</td>\n",
              "      <td>female</td>\n",
              "      <td>38.0</td>\n",
              "      <td>71.2833</td>\n",
              "      <td>1</td>\n",
              "    </tr>\n",
              "    <tr>\n",
              "      <th>2</th>\n",
              "      <td>3</td>\n",
              "      <td>female</td>\n",
              "      <td>26.0</td>\n",
              "      <td>7.9250</td>\n",
              "      <td>1</td>\n",
              "    </tr>\n",
              "    <tr>\n",
              "      <th>3</th>\n",
              "      <td>1</td>\n",
              "      <td>female</td>\n",
              "      <td>35.0</td>\n",
              "      <td>53.1000</td>\n",
              "      <td>1</td>\n",
              "    </tr>\n",
              "    <tr>\n",
              "      <th>4</th>\n",
              "      <td>3</td>\n",
              "      <td>male</td>\n",
              "      <td>35.0</td>\n",
              "      <td>8.0500</td>\n",
              "      <td>0</td>\n",
              "    </tr>\n",
              "    <tr>\n",
              "      <th>5</th>\n",
              "      <td>3</td>\n",
              "      <td>male</td>\n",
              "      <td>NaN</td>\n",
              "      <td>8.4583</td>\n",
              "      <td>0</td>\n",
              "    </tr>\n",
              "    <tr>\n",
              "      <th>6</th>\n",
              "      <td>1</td>\n",
              "      <td>male</td>\n",
              "      <td>54.0</td>\n",
              "      <td>51.8625</td>\n",
              "      <td>0</td>\n",
              "    </tr>\n",
              "    <tr>\n",
              "      <th>7</th>\n",
              "      <td>3</td>\n",
              "      <td>male</td>\n",
              "      <td>2.0</td>\n",
              "      <td>21.0750</td>\n",
              "      <td>0</td>\n",
              "    </tr>\n",
              "    <tr>\n",
              "      <th>8</th>\n",
              "      <td>3</td>\n",
              "      <td>female</td>\n",
              "      <td>27.0</td>\n",
              "      <td>11.1333</td>\n",
              "      <td>1</td>\n",
              "    </tr>\n",
              "    <tr>\n",
              "      <th>9</th>\n",
              "      <td>2</td>\n",
              "      <td>female</td>\n",
              "      <td>14.0</td>\n",
              "      <td>30.0708</td>\n",
              "      <td>1</td>\n",
              "    </tr>\n",
              "  </tbody>\n",
              "</table>\n",
              "</div>"
            ],
            "text/plain": [
              "   Pclass     Sex   Age     Fare  Survived\n",
              "0       3    male  22.0   7.2500         0\n",
              "1       1  female  38.0  71.2833         1\n",
              "2       3  female  26.0   7.9250         1\n",
              "3       1  female  35.0  53.1000         1\n",
              "4       3    male  35.0   8.0500         0\n",
              "5       3    male   NaN   8.4583         0\n",
              "6       1    male  54.0  51.8625         0\n",
              "7       3    male   2.0  21.0750         0\n",
              "8       3  female  27.0  11.1333         1\n",
              "9       2  female  14.0  30.0708         1"
            ]
          },
          "metadata": {
            "tags": []
          },
          "execution_count": 7
        }
      ]
    },
    {
      "cell_type": "markdown",
      "metadata": {
        "id": "lcjbdW11l0Vx"
      },
      "source": [
        "Validamos la existencia de NaN:"
      ]
    },
    {
      "cell_type": "code",
      "metadata": {
        "colab": {
          "base_uri": "https://localhost:8080/"
        },
        "id": "stDYOkeFl0Vx",
        "outputId": "c8cf6543-c546-43f3-8d3e-073b43b7ab2a"
      },
      "source": [
        "data.isnull().values.any()"
      ],
      "execution_count": 8,
      "outputs": [
        {
          "output_type": "execute_result",
          "data": {
            "text/plain": [
              "True"
            ]
          },
          "metadata": {
            "tags": []
          },
          "execution_count": 8
        }
      ]
    },
    {
      "cell_type": "markdown",
      "metadata": {
        "id": "fO8SPb8el0Vx"
      },
      "source": [
        "Validamos el tamaño original del dataset:"
      ]
    },
    {
      "cell_type": "code",
      "metadata": {
        "colab": {
          "base_uri": "https://localhost:8080/"
        },
        "id": "5jmv9vzsl0Vx",
        "outputId": "42425be8-4dba-44e2-f451-ad3fda0b9f09"
      },
      "source": [
        "data.shape"
      ],
      "execution_count": 9,
      "outputs": [
        {
          "output_type": "execute_result",
          "data": {
            "text/plain": [
              "(891, 5)"
            ]
          },
          "metadata": {
            "tags": []
          },
          "execution_count": 9
        }
      ]
    },
    {
      "cell_type": "markdown",
      "metadata": {
        "id": "5BiaDVvZl0Vx"
      },
      "source": [
        "Decidimos eliminar cualquier instancia que contenga al menos, un NaN:"
      ]
    },
    {
      "cell_type": "code",
      "metadata": {
        "id": "POUi9Hm1l0Vx"
      },
      "source": [
        "data = data.dropna()"
      ],
      "execution_count": 10,
      "outputs": []
    },
    {
      "cell_type": "markdown",
      "metadata": {
        "id": "buiec5Oil0Vx"
      },
      "source": [
        "y verificamos el tamaño final del dataset:"
      ]
    },
    {
      "cell_type": "code",
      "metadata": {
        "colab": {
          "base_uri": "https://localhost:8080/"
        },
        "id": "yGjRY3Gnl0Vx",
        "outputId": "df615bcf-6d09-4fac-c532-6a5fbb30c20f"
      },
      "source": [
        "data.shape"
      ],
      "execution_count": 11,
      "outputs": [
        {
          "output_type": "execute_result",
          "data": {
            "text/plain": [
              "(714, 5)"
            ]
          },
          "metadata": {
            "tags": []
          },
          "execution_count": 11
        }
      ]
    },
    {
      "cell_type": "code",
      "metadata": {
        "id": "ZHO2yzZnl0Vy"
      },
      "source": [
        "data['Sex'] = data['Sex'].replace({'male' : 0, 'female' : 1})"
      ],
      "execution_count": 12,
      "outputs": []
    },
    {
      "cell_type": "code",
      "metadata": {
        "colab": {
          "base_uri": "https://localhost:8080/",
          "height": 355
        },
        "id": "nR9_0mF_l0Vy",
        "outputId": "afe1873e-597e-41bf-a0e2-a3b411b00c66"
      },
      "source": [
        "data.head(10)"
      ],
      "execution_count": 13,
      "outputs": [
        {
          "output_type": "execute_result",
          "data": {
            "text/html": [
              "<div>\n",
              "<style scoped>\n",
              "    .dataframe tbody tr th:only-of-type {\n",
              "        vertical-align: middle;\n",
              "    }\n",
              "\n",
              "    .dataframe tbody tr th {\n",
              "        vertical-align: top;\n",
              "    }\n",
              "\n",
              "    .dataframe thead th {\n",
              "        text-align: right;\n",
              "    }\n",
              "</style>\n",
              "<table border=\"1\" class=\"dataframe\">\n",
              "  <thead>\n",
              "    <tr style=\"text-align: right;\">\n",
              "      <th></th>\n",
              "      <th>Pclass</th>\n",
              "      <th>Sex</th>\n",
              "      <th>Age</th>\n",
              "      <th>Fare</th>\n",
              "      <th>Survived</th>\n",
              "    </tr>\n",
              "  </thead>\n",
              "  <tbody>\n",
              "    <tr>\n",
              "      <th>0</th>\n",
              "      <td>3</td>\n",
              "      <td>0</td>\n",
              "      <td>22.0</td>\n",
              "      <td>7.2500</td>\n",
              "      <td>0</td>\n",
              "    </tr>\n",
              "    <tr>\n",
              "      <th>1</th>\n",
              "      <td>1</td>\n",
              "      <td>1</td>\n",
              "      <td>38.0</td>\n",
              "      <td>71.2833</td>\n",
              "      <td>1</td>\n",
              "    </tr>\n",
              "    <tr>\n",
              "      <th>2</th>\n",
              "      <td>3</td>\n",
              "      <td>1</td>\n",
              "      <td>26.0</td>\n",
              "      <td>7.9250</td>\n",
              "      <td>1</td>\n",
              "    </tr>\n",
              "    <tr>\n",
              "      <th>3</th>\n",
              "      <td>1</td>\n",
              "      <td>1</td>\n",
              "      <td>35.0</td>\n",
              "      <td>53.1000</td>\n",
              "      <td>1</td>\n",
              "    </tr>\n",
              "    <tr>\n",
              "      <th>4</th>\n",
              "      <td>3</td>\n",
              "      <td>0</td>\n",
              "      <td>35.0</td>\n",
              "      <td>8.0500</td>\n",
              "      <td>0</td>\n",
              "    </tr>\n",
              "    <tr>\n",
              "      <th>6</th>\n",
              "      <td>1</td>\n",
              "      <td>0</td>\n",
              "      <td>54.0</td>\n",
              "      <td>51.8625</td>\n",
              "      <td>0</td>\n",
              "    </tr>\n",
              "    <tr>\n",
              "      <th>7</th>\n",
              "      <td>3</td>\n",
              "      <td>0</td>\n",
              "      <td>2.0</td>\n",
              "      <td>21.0750</td>\n",
              "      <td>0</td>\n",
              "    </tr>\n",
              "    <tr>\n",
              "      <th>8</th>\n",
              "      <td>3</td>\n",
              "      <td>1</td>\n",
              "      <td>27.0</td>\n",
              "      <td>11.1333</td>\n",
              "      <td>1</td>\n",
              "    </tr>\n",
              "    <tr>\n",
              "      <th>9</th>\n",
              "      <td>2</td>\n",
              "      <td>1</td>\n",
              "      <td>14.0</td>\n",
              "      <td>30.0708</td>\n",
              "      <td>1</td>\n",
              "    </tr>\n",
              "    <tr>\n",
              "      <th>10</th>\n",
              "      <td>3</td>\n",
              "      <td>1</td>\n",
              "      <td>4.0</td>\n",
              "      <td>16.7000</td>\n",
              "      <td>1</td>\n",
              "    </tr>\n",
              "  </tbody>\n",
              "</table>\n",
              "</div>"
            ],
            "text/plain": [
              "    Pclass  Sex   Age     Fare  Survived\n",
              "0        3    0  22.0   7.2500         0\n",
              "1        1    1  38.0  71.2833         1\n",
              "2        3    1  26.0   7.9250         1\n",
              "3        1    1  35.0  53.1000         1\n",
              "4        3    0  35.0   8.0500         0\n",
              "6        1    0  54.0  51.8625         0\n",
              "7        3    0   2.0  21.0750         0\n",
              "8        3    1  27.0  11.1333         1\n",
              "9        2    1  14.0  30.0708         1\n",
              "10       3    1   4.0  16.7000         1"
            ]
          },
          "metadata": {
            "tags": []
          },
          "execution_count": 13
        }
      ]
    },
    {
      "cell_type": "code",
      "metadata": {
        "id": "czlgU2TBl0Vy"
      },
      "source": [
        "from sklearn.model_selection import train_test_split"
      ],
      "execution_count": 14,
      "outputs": []
    },
    {
      "cell_type": "markdown",
      "metadata": {
        "id": "d8B9cmy7l0Vy"
      },
      "source": [
        "Creamos nuestro conjunto de features (X) y labels (y):"
      ]
    },
    {
      "cell_type": "code",
      "metadata": {
        "id": "csoCDAKyl0Vy"
      },
      "source": [
        "features = data[['Sex','Age','Fare']]\n",
        "labels = data['Survived']"
      ],
      "execution_count": 15,
      "outputs": []
    },
    {
      "cell_type": "markdown",
      "metadata": {
        "id": "RrAjL_GAl0Vy"
      },
      "source": [
        "Vamos a dividir los datos 60-40:"
      ]
    },
    {
      "cell_type": "code",
      "metadata": {
        "id": "UosbO5-bl0Vy"
      },
      "source": [
        "X_train,X_test, y_train, y_test = train_test_split(features, labels, test_size=0.40, random_state = 13) "
      ],
      "execution_count": 16,
      "outputs": []
    },
    {
      "cell_type": "code",
      "metadata": {
        "colab": {
          "base_uri": "https://localhost:8080/"
        },
        "id": "03j6LT-Vl0Vy",
        "outputId": "842c2ffa-431f-4ebf-a7a2-29aff6c09485"
      },
      "source": [
        "X_train.shape"
      ],
      "execution_count": 17,
      "outputs": [
        {
          "output_type": "execute_result",
          "data": {
            "text/plain": [
              "(428, 3)"
            ]
          },
          "metadata": {
            "tags": []
          },
          "execution_count": 17
        }
      ]
    },
    {
      "cell_type": "markdown",
      "metadata": {
        "id": "ADYxTNwhmoIs"
      },
      "source": [
        "# Ahora iniciaremos con algo nuevo #\n"
      ]
    },
    {
      "cell_type": "markdown",
      "metadata": {
        "id": "eQSGGTCT_BVc"
      },
      "source": [
        "Predecir la supervivencia en el  Titanic, es un problema de CLASIFICACION: Sobrevivió/Murió. \n",
        "\n",
        "Utilizaremos:  regresión logística y venecino más cercano."
      ]
    },
    {
      "cell_type": "code",
      "metadata": {
        "id": "XXX1Qwwg9sRM"
      },
      "source": [
        "from sklearn.linear_model import LogisticRegression\n",
        "from sklearn.neighbors import KNeighborsClassifier"
      ],
      "execution_count": 18,
      "outputs": []
    },
    {
      "cell_type": "markdown",
      "metadata": {
        "id": "kYVgZs5m-c0s"
      },
      "source": [
        "**Habíamos dividio los datos en train y test**\n",
        "\n",
        "          X_train,X_test, y_train, y_test = train_test_split(features, labels, random_state = 13)\n"
      ]
    },
    {
      "cell_type": "markdown",
      "metadata": {
        "id": "xowAV-47BGqJ"
      },
      "source": [
        "**Regresión logística**"
      ]
    },
    {
      "cell_type": "code",
      "metadata": {
        "id": "0DlwuwYd-aNf"
      },
      "source": [
        "lr = LogisticRegression().fit(X_train, y_train)"
      ],
      "execution_count": 19,
      "outputs": []
    },
    {
      "cell_type": "code",
      "metadata": {
        "id": "oF6HOGoM-aNs"
      },
      "source": [
        "Y_pred = lr.predict(X_test)"
      ],
      "execution_count": 20,
      "outputs": []
    },
    {
      "cell_type": "code",
      "metadata": {
        "colab": {
          "base_uri": "https://localhost:8080/"
        },
        "id": "-nxLSFOe-aNt",
        "outputId": "70baec57-b0e9-49dd-f2f4-778207bed9f4"
      },
      "source": [
        "lr.score(X_train, y_train)"
      ],
      "execution_count": 21,
      "outputs": [
        {
          "output_type": "execute_result",
          "data": {
            "text/plain": [
              "0.7710280373831776"
            ]
          },
          "metadata": {
            "tags": []
          },
          "execution_count": 21
        }
      ]
    },
    {
      "cell_type": "markdown",
      "metadata": {
        "id": "4NadgreQAbmG"
      },
      "source": [
        "**Vecino más cercano** -K neighbors"
      ]
    },
    {
      "cell_type": "code",
      "metadata": {
        "id": "aqVbLMdNAaek"
      },
      "source": [
        "knn = KNeighborsClassifier(n_neighbors = 3)"
      ],
      "execution_count": 22,
      "outputs": []
    },
    {
      "cell_type": "code",
      "metadata": {
        "colab": {
          "base_uri": "https://localhost:8080/"
        },
        "id": "sm5Ib9um9yCq",
        "outputId": "4c4ceb11-a055-4511-acaf-ea602ee1cd89"
      },
      "source": [
        "knn.fit(X_train, y_train)"
      ],
      "execution_count": 23,
      "outputs": [
        {
          "output_type": "execute_result",
          "data": {
            "text/plain": [
              "KNeighborsClassifier(algorithm='auto', leaf_size=30, metric='minkowski',\n",
              "                     metric_params=None, n_jobs=None, n_neighbors=3, p=2,\n",
              "                     weights='uniform')"
            ]
          },
          "metadata": {
            "tags": []
          },
          "execution_count": 23
        }
      ]
    },
    {
      "cell_type": "code",
      "metadata": {
        "id": "alTWltu0C4kM"
      },
      "source": [
        "Y_pred = knn.predict(X_test)"
      ],
      "execution_count": 24,
      "outputs": []
    },
    {
      "cell_type": "code",
      "metadata": {
        "colab": {
          "base_uri": "https://localhost:8080/"
        },
        "id": "hFGEgIZoC7ac",
        "outputId": "476cd782-a075-40e7-d881-93303041852c"
      },
      "source": [
        "knn.score(X_train, y_train)"
      ],
      "execution_count": 25,
      "outputs": [
        {
          "output_type": "execute_result",
          "data": {
            "text/plain": [
              "0.8481308411214953"
            ]
          },
          "metadata": {
            "tags": []
          },
          "execution_count": 25
        }
      ]
    },
    {
      "cell_type": "markdown",
      "metadata": {
        "id": "kuodWAJBE7O-"
      },
      "source": [
        "**¿Cuál algoritmo de Machine Learning seleccionaría?**"
      ]
    },
    {
      "cell_type": "markdown",
      "metadata": {
        "id": "vJpNtXL0FJ2I"
      },
      "source": [
        "Ahora, modifique el tamaño de la distribución de los datos (train y test) y revise si hay variación en el resultado.\n"
      ]
    },
    {
      "cell_type": "markdown",
      "metadata": {
        "id": "EleNu4XNFfDg"
      },
      "source": [
        "### Regresión logística"
      ]
    },
    {
      "cell_type": "code",
      "metadata": {
        "id": "GIjjDIyLFTDg"
      },
      "source": [
        ""
      ],
      "execution_count": 25,
      "outputs": []
    },
    {
      "cell_type": "code",
      "metadata": {
        "id": "HSVtB-5hFTQh"
      },
      "source": [
        ""
      ],
      "execution_count": 25,
      "outputs": []
    },
    {
      "cell_type": "code",
      "metadata": {
        "id": "zxWeuPt_FTX2"
      },
      "source": [
        ""
      ],
      "execution_count": 25,
      "outputs": []
    },
    {
      "cell_type": "code",
      "metadata": {
        "colab": {
          "base_uri": "https://localhost:8080/"
        },
        "id": "lyDV6IjOFTfH",
        "outputId": "3be6f737-91d7-4177-9e5e-b3938f5bfe2a"
      },
      "source": [
        "#el resultado en 80-20 fue 0.7710280373831776\n",
        "lr.score(X_train, y_train)\n"
      ],
      "execution_count": 26,
      "outputs": [
        {
          "output_type": "execute_result",
          "data": {
            "text/plain": [
              "0.7710280373831776"
            ]
          },
          "metadata": {
            "tags": []
          },
          "execution_count": 26
        }
      ]
    },
    {
      "cell_type": "markdown",
      "metadata": {
        "id": "DNRhvsCJFoQq"
      },
      "source": [
        "### Vecino más cercano -K neighbors"
      ]
    },
    {
      "cell_type": "code",
      "metadata": {
        "id": "-7CrLGKYFTrO"
      },
      "source": [
        ""
      ],
      "execution_count": 26,
      "outputs": []
    },
    {
      "cell_type": "code",
      "metadata": {
        "id": "w1Obhj9KFu7-"
      },
      "source": [
        ""
      ],
      "execution_count": 26,
      "outputs": []
    },
    {
      "cell_type": "code",
      "metadata": {
        "id": "_awgAECVFm0q"
      },
      "source": [
        ""
      ],
      "execution_count": 26,
      "outputs": []
    },
    {
      "cell_type": "code",
      "metadata": {
        "colab": {
          "base_uri": "https://localhost:8080/"
        },
        "id": "hyuvYs44FT4M",
        "outputId": "baefc858-325d-4ebb-e26a-bfb394ccb6d9"
      },
      "source": [
        "#el resultado en 80-20 fue 0.8481308411214953\n",
        "knn.score(X_train, y_train)"
      ],
      "execution_count": 27,
      "outputs": [
        {
          "output_type": "execute_result",
          "data": {
            "text/plain": [
              "0.8481308411214953"
            ]
          },
          "metadata": {
            "tags": []
          },
          "execution_count": 27
        }
      ]
    },
    {
      "cell_type": "markdown",
      "metadata": {
        "id": "SMY1rYh5FUQf"
      },
      "source": [
        "**¿Cómo les fue?**"
      ]
    },
    {
      "cell_type": "markdown",
      "metadata": {
        "id": "g7c3Hldbst3r"
      },
      "source": [
        "# **CORRELACION DE DATOS GRAFICA**"
      ]
    },
    {
      "cell_type": "code",
      "metadata": {
        "id": "t7ZDZ11WSL5B"
      },
      "source": [
        "import numpy as np\n",
        "import pandas as pd\n",
        "from matplotlib import pyplot as plt\n",
        "import seaborn as sns"
      ],
      "execution_count": 28,
      "outputs": []
    },
    {
      "cell_type": "code",
      "metadata": {
        "id": "Ux4ZevNqPQKU"
      },
      "source": [
        "datos = pd.read_csv('https://raw.githubusercontent.com/NataliaGRC/DataScience/master/diamonds.csv')"
      ],
      "execution_count": 29,
      "outputs": []
    },
    {
      "cell_type": "code",
      "metadata": {
        "colab": {
          "base_uri": "https://localhost:8080/"
        },
        "id": "kurxDcRxPl7A",
        "outputId": "2fa88f10-5247-4c61-a339-0a0609ab3bcf"
      },
      "source": [
        "datos.shape  "
      ],
      "execution_count": 30,
      "outputs": [
        {
          "output_type": "execute_result",
          "data": {
            "text/plain": [
              "(53940, 11)"
            ]
          },
          "metadata": {
            "tags": []
          },
          "execution_count": 30
        }
      ]
    },
    {
      "cell_type": "code",
      "metadata": {
        "colab": {
          "base_uri": "https://localhost:8080/",
          "height": 202
        },
        "id": "-52cluWFPpvT",
        "outputId": "1f727cba-c09a-4974-f729-c2bddda1a518"
      },
      "source": [
        "datos.head (5)"
      ],
      "execution_count": 31,
      "outputs": [
        {
          "output_type": "execute_result",
          "data": {
            "text/html": [
              "<div>\n",
              "<style scoped>\n",
              "    .dataframe tbody tr th:only-of-type {\n",
              "        vertical-align: middle;\n",
              "    }\n",
              "\n",
              "    .dataframe tbody tr th {\n",
              "        vertical-align: top;\n",
              "    }\n",
              "\n",
              "    .dataframe thead th {\n",
              "        text-align: right;\n",
              "    }\n",
              "</style>\n",
              "<table border=\"1\" class=\"dataframe\">\n",
              "  <thead>\n",
              "    <tr style=\"text-align: right;\">\n",
              "      <th></th>\n",
              "      <th>Unnamed: 0</th>\n",
              "      <th>carat</th>\n",
              "      <th>cut</th>\n",
              "      <th>color</th>\n",
              "      <th>clarity</th>\n",
              "      <th>depth</th>\n",
              "      <th>table</th>\n",
              "      <th>price</th>\n",
              "      <th>x</th>\n",
              "      <th>y</th>\n",
              "      <th>z</th>\n",
              "    </tr>\n",
              "  </thead>\n",
              "  <tbody>\n",
              "    <tr>\n",
              "      <th>0</th>\n",
              "      <td>1</td>\n",
              "      <td>0.23</td>\n",
              "      <td>Ideal</td>\n",
              "      <td>E</td>\n",
              "      <td>SI2</td>\n",
              "      <td>61.5</td>\n",
              "      <td>55.0</td>\n",
              "      <td>326</td>\n",
              "      <td>3.95</td>\n",
              "      <td>3.98</td>\n",
              "      <td>2.43</td>\n",
              "    </tr>\n",
              "    <tr>\n",
              "      <th>1</th>\n",
              "      <td>2</td>\n",
              "      <td>0.21</td>\n",
              "      <td>Premium</td>\n",
              "      <td>E</td>\n",
              "      <td>SI1</td>\n",
              "      <td>59.8</td>\n",
              "      <td>61.0</td>\n",
              "      <td>326</td>\n",
              "      <td>3.89</td>\n",
              "      <td>3.84</td>\n",
              "      <td>2.31</td>\n",
              "    </tr>\n",
              "    <tr>\n",
              "      <th>2</th>\n",
              "      <td>3</td>\n",
              "      <td>0.23</td>\n",
              "      <td>Good</td>\n",
              "      <td>E</td>\n",
              "      <td>VS1</td>\n",
              "      <td>56.9</td>\n",
              "      <td>65.0</td>\n",
              "      <td>327</td>\n",
              "      <td>4.05</td>\n",
              "      <td>4.07</td>\n",
              "      <td>2.31</td>\n",
              "    </tr>\n",
              "    <tr>\n",
              "      <th>3</th>\n",
              "      <td>4</td>\n",
              "      <td>0.29</td>\n",
              "      <td>Premium</td>\n",
              "      <td>I</td>\n",
              "      <td>VS2</td>\n",
              "      <td>62.4</td>\n",
              "      <td>58.0</td>\n",
              "      <td>334</td>\n",
              "      <td>4.20</td>\n",
              "      <td>4.23</td>\n",
              "      <td>2.63</td>\n",
              "    </tr>\n",
              "    <tr>\n",
              "      <th>4</th>\n",
              "      <td>5</td>\n",
              "      <td>0.31</td>\n",
              "      <td>Good</td>\n",
              "      <td>J</td>\n",
              "      <td>SI2</td>\n",
              "      <td>63.3</td>\n",
              "      <td>58.0</td>\n",
              "      <td>335</td>\n",
              "      <td>4.34</td>\n",
              "      <td>4.35</td>\n",
              "      <td>2.75</td>\n",
              "    </tr>\n",
              "  </tbody>\n",
              "</table>\n",
              "</div>"
            ],
            "text/plain": [
              "   Unnamed: 0  carat      cut color clarity  ...  table  price     x     y     z\n",
              "0           1   0.23    Ideal     E     SI2  ...   55.0    326  3.95  3.98  2.43\n",
              "1           2   0.21  Premium     E     SI1  ...   61.0    326  3.89  3.84  2.31\n",
              "2           3   0.23     Good     E     VS1  ...   65.0    327  4.05  4.07  2.31\n",
              "3           4   0.29  Premium     I     VS2  ...   58.0    334  4.20  4.23  2.63\n",
              "4           5   0.31     Good     J     SI2  ...   58.0    335  4.34  4.35  2.75\n",
              "\n",
              "[5 rows x 11 columns]"
            ]
          },
          "metadata": {
            "tags": []
          },
          "execution_count": 31
        }
      ]
    },
    {
      "cell_type": "code",
      "metadata": {
        "id": "q1hgQlyMKOIC"
      },
      "source": [
        "del datos['Unnamed: 0'] #eliminar la columna de autonumeración"
      ],
      "execution_count": 32,
      "outputs": []
    },
    {
      "cell_type": "code",
      "metadata": {
        "colab": {
          "base_uri": "https://localhost:8080/",
          "height": 263
        },
        "id": "Jw4a7i8_PySY",
        "outputId": "bba5f08b-f59f-41a6-9ae0-0d627743df89"
      },
      "source": [
        "datos.corr()"
      ],
      "execution_count": 33,
      "outputs": [
        {
          "output_type": "execute_result",
          "data": {
            "text/html": [
              "<div>\n",
              "<style scoped>\n",
              "    .dataframe tbody tr th:only-of-type {\n",
              "        vertical-align: middle;\n",
              "    }\n",
              "\n",
              "    .dataframe tbody tr th {\n",
              "        vertical-align: top;\n",
              "    }\n",
              "\n",
              "    .dataframe thead th {\n",
              "        text-align: right;\n",
              "    }\n",
              "</style>\n",
              "<table border=\"1\" class=\"dataframe\">\n",
              "  <thead>\n",
              "    <tr style=\"text-align: right;\">\n",
              "      <th></th>\n",
              "      <th>carat</th>\n",
              "      <th>depth</th>\n",
              "      <th>table</th>\n",
              "      <th>price</th>\n",
              "      <th>x</th>\n",
              "      <th>y</th>\n",
              "      <th>z</th>\n",
              "    </tr>\n",
              "  </thead>\n",
              "  <tbody>\n",
              "    <tr>\n",
              "      <th>carat</th>\n",
              "      <td>1.000000</td>\n",
              "      <td>0.028224</td>\n",
              "      <td>0.181618</td>\n",
              "      <td>0.921591</td>\n",
              "      <td>0.975094</td>\n",
              "      <td>0.951722</td>\n",
              "      <td>0.953387</td>\n",
              "    </tr>\n",
              "    <tr>\n",
              "      <th>depth</th>\n",
              "      <td>0.028224</td>\n",
              "      <td>1.000000</td>\n",
              "      <td>-0.295779</td>\n",
              "      <td>-0.010647</td>\n",
              "      <td>-0.025289</td>\n",
              "      <td>-0.029341</td>\n",
              "      <td>0.094924</td>\n",
              "    </tr>\n",
              "    <tr>\n",
              "      <th>table</th>\n",
              "      <td>0.181618</td>\n",
              "      <td>-0.295779</td>\n",
              "      <td>1.000000</td>\n",
              "      <td>0.127134</td>\n",
              "      <td>0.195344</td>\n",
              "      <td>0.183760</td>\n",
              "      <td>0.150929</td>\n",
              "    </tr>\n",
              "    <tr>\n",
              "      <th>price</th>\n",
              "      <td>0.921591</td>\n",
              "      <td>-0.010647</td>\n",
              "      <td>0.127134</td>\n",
              "      <td>1.000000</td>\n",
              "      <td>0.884435</td>\n",
              "      <td>0.865421</td>\n",
              "      <td>0.861249</td>\n",
              "    </tr>\n",
              "    <tr>\n",
              "      <th>x</th>\n",
              "      <td>0.975094</td>\n",
              "      <td>-0.025289</td>\n",
              "      <td>0.195344</td>\n",
              "      <td>0.884435</td>\n",
              "      <td>1.000000</td>\n",
              "      <td>0.974701</td>\n",
              "      <td>0.970772</td>\n",
              "    </tr>\n",
              "    <tr>\n",
              "      <th>y</th>\n",
              "      <td>0.951722</td>\n",
              "      <td>-0.029341</td>\n",
              "      <td>0.183760</td>\n",
              "      <td>0.865421</td>\n",
              "      <td>0.974701</td>\n",
              "      <td>1.000000</td>\n",
              "      <td>0.952006</td>\n",
              "    </tr>\n",
              "    <tr>\n",
              "      <th>z</th>\n",
              "      <td>0.953387</td>\n",
              "      <td>0.094924</td>\n",
              "      <td>0.150929</td>\n",
              "      <td>0.861249</td>\n",
              "      <td>0.970772</td>\n",
              "      <td>0.952006</td>\n",
              "      <td>1.000000</td>\n",
              "    </tr>\n",
              "  </tbody>\n",
              "</table>\n",
              "</div>"
            ],
            "text/plain": [
              "          carat     depth     table     price         x         y         z\n",
              "carat  1.000000  0.028224  0.181618  0.921591  0.975094  0.951722  0.953387\n",
              "depth  0.028224  1.000000 -0.295779 -0.010647 -0.025289 -0.029341  0.094924\n",
              "table  0.181618 -0.295779  1.000000  0.127134  0.195344  0.183760  0.150929\n",
              "price  0.921591 -0.010647  0.127134  1.000000  0.884435  0.865421  0.861249\n",
              "x      0.975094 -0.025289  0.195344  0.884435  1.000000  0.974701  0.970772\n",
              "y      0.951722 -0.029341  0.183760  0.865421  0.974701  1.000000  0.952006\n",
              "z      0.953387  0.094924  0.150929  0.861249  0.970772  0.952006  1.000000"
            ]
          },
          "metadata": {
            "tags": []
          },
          "execution_count": 33
        }
      ]
    },
    {
      "cell_type": "code",
      "metadata": {
        "colab": {
          "base_uri": "https://localhost:8080/",
          "height": 613
        },
        "id": "PXtf6CTSP5Zh",
        "outputId": "94aa987a-83f2-4688-c8d1-aa96925d86dc"
      },
      "source": [
        "plt.figure(figsize=(20, 10))\n",
        "sns.heatmap(datos.corr(), annot=True)"
      ],
      "execution_count": 34,
      "outputs": [
        {
          "output_type": "execute_result",
          "data": {
            "text/plain": [
              "<matplotlib.axes._subplots.AxesSubplot at 0x7f1b603632d0>"
            ]
          },
          "metadata": {
            "tags": []
          },
          "execution_count": 34
        },
        {
          "output_type": "display_data",
          "data": {
            "image/png": "[encoded data removed]",
            "text/plain": [
              "<Figure size 1440x720 with 2 Axes>"
            ]
          },
          "metadata": {
            "tags": [],
            "needs_background": "light"
          }
        }
      ]
    },
    {
      "cell_type": "markdown",
      "metadata": {
        "id": "cNwg0SZ4QaQc"
      },
      "source": [
        "## **NORMALIZAR LOS DATOS**"
      ]
    },
    {
      "cell_type": "code",
      "metadata": {
        "id": "cGzHdD6TQiFr"
      },
      "source": [
        "#Paso 1 - asignar 0 a los datos nulos\n",
        "datos = datos.fillna(0)\n"
      ],
      "execution_count": 35,
      "outputs": []
    },
    {
      "cell_type": "code",
      "metadata": {
        "id": "fuMXiN3vQwMy"
      },
      "source": [
        "#Paso 2 - Normalizar los datos para que esten en el intervalo (0,1)\n",
        "#LAS COLUMNAS SE DUPLICARAN\n",
        "processed_dataP = datos\n",
        "processed_dataP[\"PRICE\"] = processed_dataP[\"price\"]/datos[\"price\"].max()\n",
        "processed_dataP[\"X\"] = processed_dataP[\"x\"]/datos[\"x\"].max()\n",
        "processed_dataP[\"Y\"] = processed_dataP[\"y\"]/datos[\"y\"].max()\n",
        "processed_dataP[\"Z\"] = processed_dataP[\"z\"]/datos[\"z\"].max()"
      ],
      "execution_count": 36,
      "outputs": []
    },
    {
      "cell_type": "code",
      "metadata": {
        "colab": {
          "base_uri": "https://localhost:8080/",
          "height": 373
        },
        "id": "CKZDmXf_RNNm",
        "outputId": "ff7b43e2-a407-41b5-a02f-929c429a5744"
      },
      "source": [
        "print(\"Muestra de los Datos\")\n",
        "processed_dataP.head(10)"
      ],
      "execution_count": 37,
      "outputs": [
        {
          "output_type": "stream",
          "text": [
            "Muestra de los Datos\n"
          ],
          "name": "stdout"
        },
        {
          "output_type": "execute_result",
          "data": {
            "text/html": [
              "<div>\n",
              "<style scoped>\n",
              "    .dataframe tbody tr th:only-of-type {\n",
              "        vertical-align: middle;\n",
              "    }\n",
              "\n",
              "    .dataframe tbody tr th {\n",
              "        vertical-align: top;\n",
              "    }\n",
              "\n",
              "    .dataframe thead th {\n",
              "        text-align: right;\n",
              "    }\n",
              "</style>\n",
              "<table border=\"1\" class=\"dataframe\">\n",
              "  <thead>\n",
              "    <tr style=\"text-align: right;\">\n",
              "      <th></th>\n",
              "      <th>carat</th>\n",
              "      <th>cut</th>\n",
              "      <th>color</th>\n",
              "      <th>clarity</th>\n",
              "      <th>depth</th>\n",
              "      <th>table</th>\n",
              "      <th>price</th>\n",
              "      <th>x</th>\n",
              "      <th>y</th>\n",
              "      <th>z</th>\n",
              "      <th>PRICE</th>\n",
              "      <th>X</th>\n",
              "      <th>Y</th>\n",
              "      <th>Z</th>\n",
              "    </tr>\n",
              "  </thead>\n",
              "  <tbody>\n",
              "    <tr>\n",
              "      <th>0</th>\n",
              "      <td>0.23</td>\n",
              "      <td>Ideal</td>\n",
              "      <td>E</td>\n",
              "      <td>SI2</td>\n",
              "      <td>61.5</td>\n",
              "      <td>55.0</td>\n",
              "      <td>326</td>\n",
              "      <td>3.95</td>\n",
              "      <td>3.98</td>\n",
              "      <td>2.43</td>\n",
              "      <td>0.017319</td>\n",
              "      <td>0.367784</td>\n",
              "      <td>0.067572</td>\n",
              "      <td>0.076415</td>\n",
              "    </tr>\n",
              "    <tr>\n",
              "      <th>1</th>\n",
              "      <td>0.21</td>\n",
              "      <td>Premium</td>\n",
              "      <td>E</td>\n",
              "      <td>SI1</td>\n",
              "      <td>59.8</td>\n",
              "      <td>61.0</td>\n",
              "      <td>326</td>\n",
              "      <td>3.89</td>\n",
              "      <td>3.84</td>\n",
              "      <td>2.31</td>\n",
              "      <td>0.017319</td>\n",
              "      <td>0.362197</td>\n",
              "      <td>0.065195</td>\n",
              "      <td>0.072642</td>\n",
              "    </tr>\n",
              "    <tr>\n",
              "      <th>2</th>\n",
              "      <td>0.23</td>\n",
              "      <td>Good</td>\n",
              "      <td>E</td>\n",
              "      <td>VS1</td>\n",
              "      <td>56.9</td>\n",
              "      <td>65.0</td>\n",
              "      <td>327</td>\n",
              "      <td>4.05</td>\n",
              "      <td>4.07</td>\n",
              "      <td>2.31</td>\n",
              "      <td>0.017372</td>\n",
              "      <td>0.377095</td>\n",
              "      <td>0.069100</td>\n",
              "      <td>0.072642</td>\n",
              "    </tr>\n",
              "    <tr>\n",
              "      <th>3</th>\n",
              "      <td>0.29</td>\n",
              "      <td>Premium</td>\n",
              "      <td>I</td>\n",
              "      <td>VS2</td>\n",
              "      <td>62.4</td>\n",
              "      <td>58.0</td>\n",
              "      <td>334</td>\n",
              "      <td>4.20</td>\n",
              "      <td>4.23</td>\n",
              "      <td>2.63</td>\n",
              "      <td>0.017744</td>\n",
              "      <td>0.391061</td>\n",
              "      <td>0.071817</td>\n",
              "      <td>0.082704</td>\n",
              "    </tr>\n",
              "    <tr>\n",
              "      <th>4</th>\n",
              "      <td>0.31</td>\n",
              "      <td>Good</td>\n",
              "      <td>J</td>\n",
              "      <td>SI2</td>\n",
              "      <td>63.3</td>\n",
              "      <td>58.0</td>\n",
              "      <td>335</td>\n",
              "      <td>4.34</td>\n",
              "      <td>4.35</td>\n",
              "      <td>2.75</td>\n",
              "      <td>0.017797</td>\n",
              "      <td>0.404097</td>\n",
              "      <td>0.073854</td>\n",
              "      <td>0.086478</td>\n",
              "    </tr>\n",
              "    <tr>\n",
              "      <th>5</th>\n",
              "      <td>0.24</td>\n",
              "      <td>Very Good</td>\n",
              "      <td>J</td>\n",
              "      <td>VVS2</td>\n",
              "      <td>62.8</td>\n",
              "      <td>57.0</td>\n",
              "      <td>336</td>\n",
              "      <td>3.94</td>\n",
              "      <td>3.96</td>\n",
              "      <td>2.48</td>\n",
              "      <td>0.017851</td>\n",
              "      <td>0.366853</td>\n",
              "      <td>0.067233</td>\n",
              "      <td>0.077987</td>\n",
              "    </tr>\n",
              "    <tr>\n",
              "      <th>6</th>\n",
              "      <td>0.24</td>\n",
              "      <td>Very Good</td>\n",
              "      <td>I</td>\n",
              "      <td>VVS1</td>\n",
              "      <td>62.3</td>\n",
              "      <td>57.0</td>\n",
              "      <td>336</td>\n",
              "      <td>3.95</td>\n",
              "      <td>3.98</td>\n",
              "      <td>2.47</td>\n",
              "      <td>0.017851</td>\n",
              "      <td>0.367784</td>\n",
              "      <td>0.067572</td>\n",
              "      <td>0.077673</td>\n",
              "    </tr>\n",
              "    <tr>\n",
              "      <th>7</th>\n",
              "      <td>0.26</td>\n",
              "      <td>Very Good</td>\n",
              "      <td>H</td>\n",
              "      <td>SI1</td>\n",
              "      <td>61.9</td>\n",
              "      <td>55.0</td>\n",
              "      <td>337</td>\n",
              "      <td>4.07</td>\n",
              "      <td>4.11</td>\n",
              "      <td>2.53</td>\n",
              "      <td>0.017904</td>\n",
              "      <td>0.378957</td>\n",
              "      <td>0.069779</td>\n",
              "      <td>0.079560</td>\n",
              "    </tr>\n",
              "    <tr>\n",
              "      <th>8</th>\n",
              "      <td>0.22</td>\n",
              "      <td>Fair</td>\n",
              "      <td>E</td>\n",
              "      <td>VS2</td>\n",
              "      <td>65.1</td>\n",
              "      <td>61.0</td>\n",
              "      <td>337</td>\n",
              "      <td>3.87</td>\n",
              "      <td>3.78</td>\n",
              "      <td>2.49</td>\n",
              "      <td>0.017904</td>\n",
              "      <td>0.360335</td>\n",
              "      <td>0.064177</td>\n",
              "      <td>0.078302</td>\n",
              "    </tr>\n",
              "    <tr>\n",
              "      <th>9</th>\n",
              "      <td>0.23</td>\n",
              "      <td>Very Good</td>\n",
              "      <td>H</td>\n",
              "      <td>VS1</td>\n",
              "      <td>59.4</td>\n",
              "      <td>61.0</td>\n",
              "      <td>338</td>\n",
              "      <td>4.00</td>\n",
              "      <td>4.05</td>\n",
              "      <td>2.39</td>\n",
              "      <td>0.017957</td>\n",
              "      <td>0.372439</td>\n",
              "      <td>0.068761</td>\n",
              "      <td>0.075157</td>\n",
              "    </tr>\n",
              "  </tbody>\n",
              "</table>\n",
              "</div>"
            ],
            "text/plain": [
              "   carat        cut color clarity  ...     PRICE         X         Y         Z\n",
              "0   0.23      Ideal     E     SI2  ...  0.017319  0.367784  0.067572  0.076415\n",
              "1   0.21    Premium     E     SI1  ...  0.017319  0.362197  0.065195  0.072642\n",
              "2   0.23       Good     E     VS1  ...  0.017372  0.377095  0.069100  0.072642\n",
              "3   0.29    Premium     I     VS2  ...  0.017744  0.391061  0.071817  0.082704\n",
              "4   0.31       Good     J     SI2  ...  0.017797  0.404097  0.073854  0.086478\n",
              "5   0.24  Very Good     J    VVS2  ...  0.017851  0.366853  0.067233  0.077987\n",
              "6   0.24  Very Good     I    VVS1  ...  0.017851  0.367784  0.067572  0.077673\n",
              "7   0.26  Very Good     H     SI1  ...  0.017904  0.378957  0.069779  0.079560\n",
              "8   0.22       Fair     E     VS2  ...  0.017904  0.360335  0.064177  0.078302\n",
              "9   0.23  Very Good     H     VS1  ...  0.017957  0.372439  0.068761  0.075157\n",
              "\n",
              "[10 rows x 14 columns]"
            ]
          },
          "metadata": {
            "tags": []
          },
          "execution_count": 37
        }
      ]
    },
    {
      "cell_type": "markdown",
      "metadata": {
        "id": "DZEPAlQ7Wthi"
      },
      "source": [
        "## OUTLIERS"
      ]
    },
    {
      "cell_type": "code",
      "metadata": {
        "colab": {
          "base_uri": "https://localhost:8080/",
          "height": 264
        },
        "id": "5szY7DHYWv9N",
        "outputId": "738706dc-ee7e-4ee1-8b43-5fe44f82b4b5"
      },
      "source": [
        "#característica de precio sin normalizar\n",
        "plt.hist(processed_dataP[\"price\"])\n",
        "plt.show()"
      ],
      "execution_count": 38,
      "outputs": [
        {
          "output_type": "display_data",
          "data": {
            "image/png": "[encoded data removed]",
            "text/plain": [
              "<Figure size 432x288 with 1 Axes>"
            ]
          },
          "metadata": {
            "tags": [],
            "needs_background": "light"
          }
        }
      ]
    },
    {
      "cell_type": "code",
      "metadata": {
        "colab": {
          "base_uri": "https://localhost:8080/",
          "height": 264
        },
        "id": "jYuRmWu1Hcp1",
        "outputId": "0590fc7d-7e00-46ee-e1e7-e55a45305064"
      },
      "source": [
        "#característica de precio  normalizar\n",
        "plt.hist(processed_dataP[\"PRICE\"])\n",
        "plt.show()"
      ],
      "execution_count": 39,
      "outputs": [
        {
          "output_type": "display_data",
          "data": {
            "image/png": "[encoded data removed]",
            "text/plain": [
              "<Figure size 432x288 with 1 Axes>"
            ]
          },
          "metadata": {
            "tags": [],
            "needs_background": "light"
          }
        }
      ]
    },
    {
      "cell_type": "code",
      "metadata": {
        "colab": {
          "base_uri": "https://localhost:8080/",
          "height": 264
        },
        "id": "U9PJKBonXXpI",
        "outputId": "3aa93a48-f7c3-490c-bed9-904f3b752b7a"
      },
      "source": [
        "#característica medida x  sin normalizar\n",
        "plt.hist(processed_dataP[\"x\"])\n",
        "plt.show()"
      ],
      "execution_count": 40,
      "outputs": [
        {
          "output_type": "display_data",
          "data": {
            "image/png": "[encoded data removed]",
            "text/plain": [
              "<Figure size 432x288 with 1 Axes>"
            ]
          },
          "metadata": {
            "tags": [],
            "needs_background": "light"
          }
        }
      ]
    },
    {
      "cell_type": "code",
      "metadata": {
        "colab": {
          "base_uri": "https://localhost:8080/",
          "height": 264
        },
        "id": "t3u4R8A1Hzcf",
        "outputId": "5a313deb-46ec-4dc7-9042-2b5bee3efbb3"
      },
      "source": [
        "#característica medida x  normalizar\n",
        "plt.hist(processed_dataP[\"X\"])\n",
        "plt.show()"
      ],
      "execution_count": 41,
      "outputs": [
        {
          "output_type": "display_data",
          "data": {
            "image/png": "[encoded data removed]",
            "text/plain": [
              "<Figure size 432x288 with 1 Axes>"
            ]
          },
          "metadata": {
            "tags": [],
            "needs_background": "light"
          }
        }
      ]
    },
    {
      "cell_type": "markdown",
      "metadata": {
        "id": "Y_acx99vO5D5"
      },
      "source": [
        "## **ONE HOT ENCODE**"
      ]
    },
    {
      "cell_type": "code",
      "metadata": {
        "id": "O9tzU3S7azvY"
      },
      "source": [
        "#TAREA "
      ],
      "execution_count": 42,
      "outputs": []
    },
    {
      "cell_type": "markdown",
      "metadata": {
        "id": "PHcmkQaKUNlR"
      },
      "source": [
        "### **ELIMINAR COLUMNAS**"
      ]
    },
    {
      "cell_type": "code",
      "metadata": {
        "id": "4jqWEmtWUTTJ"
      },
      "source": [
        "datoReducidos = datos\n"
      ],
      "execution_count": 43,
      "outputs": []
    },
    {
      "cell_type": "code",
      "metadata": {
        "id": "nkxT59kMVc2p"
      },
      "source": [
        "\n",
        "del datoReducidos['depth'] #eliminar la columna de depth\n",
        "del datoReducidos['table'] #eliminar la columna de table\n",
        "del datoReducidos['cut'] #eliminar la columna de corte\n",
        "del datoReducidos['color'] #eliminar la columna de color\n",
        "del datoReducidos['clarity'] #eliminar la columna de claridad\n",
        "\n",
        "#Además eliminamos las columnas duplicadas (NO NORMALIZADAS)\n",
        "\n",
        "del datoReducidos['x'] #eliminar la columna de table\n",
        "del datoReducidos['y'] #eliminar la columna de corte\n",
        "del datoReducidos['z'] #eliminar la columna de color\n",
        "del datoReducidos['price'] #eliminar la columna de claridad\n"
      ],
      "execution_count": 44,
      "outputs": []
    },
    {
      "cell_type": "code",
      "metadata": {
        "colab": {
          "base_uri": "https://localhost:8080/",
          "height": 202
        },
        "id": "ZrOCnZgiVfmK",
        "outputId": "c8b86163-9ff3-4ec2-b75a-f3f32d9b6fbf"
      },
      "source": [
        "datoReducidos.head()"
      ],
      "execution_count": 45,
      "outputs": [
        {
          "output_type": "execute_result",
          "data": {
            "text/html": [
              "<div>\n",
              "<style scoped>\n",
              "    .dataframe tbody tr th:only-of-type {\n",
              "        vertical-align: middle;\n",
              "    }\n",
              "\n",
              "    .dataframe tbody tr th {\n",
              "        vertical-align: top;\n",
              "    }\n",
              "\n",
              "    .dataframe thead th {\n",
              "        text-align: right;\n",
              "    }\n",
              "</style>\n",
              "<table border=\"1\" class=\"dataframe\">\n",
              "  <thead>\n",
              "    <tr style=\"text-align: right;\">\n",
              "      <th></th>\n",
              "      <th>carat</th>\n",
              "      <th>PRICE</th>\n",
              "      <th>X</th>\n",
              "      <th>Y</th>\n",
              "      <th>Z</th>\n",
              "    </tr>\n",
              "  </thead>\n",
              "  <tbody>\n",
              "    <tr>\n",
              "      <th>0</th>\n",
              "      <td>0.23</td>\n",
              "      <td>0.017319</td>\n",
              "      <td>0.367784</td>\n",
              "      <td>0.067572</td>\n",
              "      <td>0.076415</td>\n",
              "    </tr>\n",
              "    <tr>\n",
              "      <th>1</th>\n",
              "      <td>0.21</td>\n",
              "      <td>0.017319</td>\n",
              "      <td>0.362197</td>\n",
              "      <td>0.065195</td>\n",
              "      <td>0.072642</td>\n",
              "    </tr>\n",
              "    <tr>\n",
              "      <th>2</th>\n",
              "      <td>0.23</td>\n",
              "      <td>0.017372</td>\n",
              "      <td>0.377095</td>\n",
              "      <td>0.069100</td>\n",
              "      <td>0.072642</td>\n",
              "    </tr>\n",
              "    <tr>\n",
              "      <th>3</th>\n",
              "      <td>0.29</td>\n",
              "      <td>0.017744</td>\n",
              "      <td>0.391061</td>\n",
              "      <td>0.071817</td>\n",
              "      <td>0.082704</td>\n",
              "    </tr>\n",
              "    <tr>\n",
              "      <th>4</th>\n",
              "      <td>0.31</td>\n",
              "      <td>0.017797</td>\n",
              "      <td>0.404097</td>\n",
              "      <td>0.073854</td>\n",
              "      <td>0.086478</td>\n",
              "    </tr>\n",
              "  </tbody>\n",
              "</table>\n",
              "</div>"
            ],
            "text/plain": [
              "   carat     PRICE         X         Y         Z\n",
              "0   0.23  0.017319  0.367784  0.067572  0.076415\n",
              "1   0.21  0.017319  0.362197  0.065195  0.072642\n",
              "2   0.23  0.017372  0.377095  0.069100  0.072642\n",
              "3   0.29  0.017744  0.391061  0.071817  0.082704\n",
              "4   0.31  0.017797  0.404097  0.073854  0.086478"
            ]
          },
          "metadata": {
            "tags": []
          },
          "execution_count": 45
        }
      ]
    },
    {
      "cell_type": "code",
      "metadata": {
        "colab": {
          "base_uri": "https://localhost:8080/",
          "height": 612
        },
        "id": "XvpcfbUuWAbT",
        "outputId": "4ccf6f1f-091f-42ec-d6cc-bf7df8d8c520"
      },
      "source": [
        "plt.figure(figsize=(20, 10))\n",
        "sns.heatmap(datoReducidos.corr(), annot=True)"
      ],
      "execution_count": 46,
      "outputs": [
        {
          "output_type": "execute_result",
          "data": {
            "text/plain": [
              "<matplotlib.axes._subplots.AxesSubplot at 0x7f1b57a47d10>"
            ]
          },
          "metadata": {
            "tags": []
          },
          "execution_count": 46
        },
        {
          "output_type": "display_data",
          "data": {
            "image/png": "[encoded data removed]",
            "text/plain": [
              "<Figure size 1440x720 with 2 Axes>"
            ]
          },
          "metadata": {
            "tags": [],
            "needs_background": "light"
          }
        }
      ]
    },
    {
      "cell_type": "markdown",
      "metadata": {
        "id": "2HQKVKKvWIQQ"
      },
      "source": [
        "## Visualización por Combinación"
      ]
    },
    {
      "cell_type": "code",
      "metadata": {
        "colab": {
          "base_uri": "https://localhost:8080/",
          "height": 255
        },
        "id": "wRDyZy83WKDs",
        "outputId": "d4fd1325-7e8c-4242-f071-df7da1e5d3af"
      },
      "source": [
        "#GRAFICAR LA PRIMERA COMBINACION\n",
        "fig = plt.figure()\n",
        "ax = fig.add_subplot (111, projection='3d')\n",
        "\n",
        "\n",
        "ax.scatter(datoReducidos['X'], datoReducidos['PRICE'], datoReducidos['Y'], c='b', marker='D')\n",
        "\n",
        "ax.set_xlabel('X')\n",
        "ax.set_ylabel('PRICE')\n",
        "ax.set_zlabel('Y')\n",
        "\n",
        "fig.subplots_adjust(bottom=0.1) \n",
        "ax.view_init(50,50)\n",
        "\n",
        "plt.title(\"Combinación 1: X, Y, respecto a PRICE\")\n",
        "plt.show()"
      ],
      "execution_count": 47,
      "outputs": [
        {
          "output_type": "display_data",
          "data": {
            "image/png": "[encoded data removed]",
            "text/plain": [
              "<Figure size 432x288 with 1 Axes>"
            ]
          },
          "metadata": {
            "tags": [],
            "needs_background": "light"
          }
        }
      ]
    },
    {
      "cell_type": "code",
      "metadata": {
        "colab": {
          "base_uri": "https://localhost:8080/",
          "height": 255
        },
        "id": "trlipD3hWdsR",
        "outputId": "7fa017bf-7824-4915-b287-3cb76c3a5d12"
      },
      "source": [
        "#GRAFICAR LA SEGUNDA COMBINACION\n",
        "fig = plt.figure()\n",
        "ax = fig.add_subplot (111, projection='3d')\n",
        "\n",
        "\n",
        "ax.scatter(datoReducidos['carat'], datoReducidos['PRICE'], datoReducidos['Z'], c='y', marker='D')\n",
        "\n",
        "ax.set_xlabel('carat')\n",
        "ax.set_ylabel('PRICE')\n",
        "ax.set_zlabel('Z')\n",
        "\n",
        "fig.subplots_adjust(bottom=0.1) \n",
        "ax.view_init(50,5)\n",
        "\n",
        "plt.title(\"Combinación 2: carat y z, respecto a precio\")\n",
        "plt.show()\n"
      ],
      "execution_count": 48,
      "outputs": [
        {
          "output_type": "display_data",
          "data": {
            "image/png": "[encoded data removed]",
            "text/plain": [
              "<Figure size 432x288 with 1 Axes>"
            ]
          },
          "metadata": {
            "tags": [],
            "needs_background": "light"
          }
        }
      ]
    },
    {
      "cell_type": "markdown",
      "metadata": {
        "id": "hSh69GjmIriR"
      },
      "source": [
        "**Es importante que observemos que en este caso vamos a predecir un valor, no es un problema de clasificación como el anterior del titanic.** "
      ]
    },
    {
      "cell_type": "markdown",
      "metadata": {
        "id": "cwHEeAc6E3g8"
      },
      "source": [
        "## **REGRESION LINEAL**"
      ]
    },
    {
      "cell_type": "code",
      "metadata": {
        "id": "o_8Ia_zUmzSX"
      },
      "source": [
        "from sklearn.linear_model import LinearRegression\n"
      ],
      "execution_count": 49,
      "outputs": []
    },
    {
      "cell_type": "code",
      "metadata": {
        "id": "97PuYcba78qq",
        "colab": {
          "base_uri": "https://localhost:8080/",
          "height": 355
        },
        "outputId": "31504aca-9657-4382-a1a3-14bca8586e03"
      },
      "source": [
        "datoReducidos.head(10)"
      ],
      "execution_count": 50,
      "outputs": [
        {
          "output_type": "execute_result",
          "data": {
            "text/html": [
              "<div>\n",
              "<style scoped>\n",
              "    .dataframe tbody tr th:only-of-type {\n",
              "        vertical-align: middle;\n",
              "    }\n",
              "\n",
              "    .dataframe tbody tr th {\n",
              "        vertical-align: top;\n",
              "    }\n",
              "\n",
              "    .dataframe thead th {\n",
              "        text-align: right;\n",
              "    }\n",
              "</style>\n",
              "<table border=\"1\" class=\"dataframe\">\n",
              "  <thead>\n",
              "    <tr style=\"text-align: right;\">\n",
              "      <th></th>\n",
              "      <th>carat</th>\n",
              "      <th>PRICE</th>\n",
              "      <th>X</th>\n",
              "      <th>Y</th>\n",
              "      <th>Z</th>\n",
              "    </tr>\n",
              "  </thead>\n",
              "  <tbody>\n",
              "    <tr>\n",
              "      <th>0</th>\n",
              "      <td>0.23</td>\n",
              "      <td>0.017319</td>\n",
              "      <td>0.367784</td>\n",
              "      <td>0.067572</td>\n",
              "      <td>0.076415</td>\n",
              "    </tr>\n",
              "    <tr>\n",
              "      <th>1</th>\n",
              "      <td>0.21</td>\n",
              "      <td>0.017319</td>\n",
              "      <td>0.362197</td>\n",
              "      <td>0.065195</td>\n",
              "      <td>0.072642</td>\n",
              "    </tr>\n",
              "    <tr>\n",
              "      <th>2</th>\n",
              "      <td>0.23</td>\n",
              "      <td>0.017372</td>\n",
              "      <td>0.377095</td>\n",
              "      <td>0.069100</td>\n",
              "      <td>0.072642</td>\n",
              "    </tr>\n",
              "    <tr>\n",
              "      <th>3</th>\n",
              "      <td>0.29</td>\n",
              "      <td>0.017744</td>\n",
              "      <td>0.391061</td>\n",
              "      <td>0.071817</td>\n",
              "      <td>0.082704</td>\n",
              "    </tr>\n",
              "    <tr>\n",
              "      <th>4</th>\n",
              "      <td>0.31</td>\n",
              "      <td>0.017797</td>\n",
              "      <td>0.404097</td>\n",
              "      <td>0.073854</td>\n",
              "      <td>0.086478</td>\n",
              "    </tr>\n",
              "    <tr>\n",
              "      <th>5</th>\n",
              "      <td>0.24</td>\n",
              "      <td>0.017851</td>\n",
              "      <td>0.366853</td>\n",
              "      <td>0.067233</td>\n",
              "      <td>0.077987</td>\n",
              "    </tr>\n",
              "    <tr>\n",
              "      <th>6</th>\n",
              "      <td>0.24</td>\n",
              "      <td>0.017851</td>\n",
              "      <td>0.367784</td>\n",
              "      <td>0.067572</td>\n",
              "      <td>0.077673</td>\n",
              "    </tr>\n",
              "    <tr>\n",
              "      <th>7</th>\n",
              "      <td>0.26</td>\n",
              "      <td>0.017904</td>\n",
              "      <td>0.378957</td>\n",
              "      <td>0.069779</td>\n",
              "      <td>0.079560</td>\n",
              "    </tr>\n",
              "    <tr>\n",
              "      <th>8</th>\n",
              "      <td>0.22</td>\n",
              "      <td>0.017904</td>\n",
              "      <td>0.360335</td>\n",
              "      <td>0.064177</td>\n",
              "      <td>0.078302</td>\n",
              "    </tr>\n",
              "    <tr>\n",
              "      <th>9</th>\n",
              "      <td>0.23</td>\n",
              "      <td>0.017957</td>\n",
              "      <td>0.372439</td>\n",
              "      <td>0.068761</td>\n",
              "      <td>0.075157</td>\n",
              "    </tr>\n",
              "  </tbody>\n",
              "</table>\n",
              "</div>"
            ],
            "text/plain": [
              "   carat     PRICE         X         Y         Z\n",
              "0   0.23  0.017319  0.367784  0.067572  0.076415\n",
              "1   0.21  0.017319  0.362197  0.065195  0.072642\n",
              "2   0.23  0.017372  0.377095  0.069100  0.072642\n",
              "3   0.29  0.017744  0.391061  0.071817  0.082704\n",
              "4   0.31  0.017797  0.404097  0.073854  0.086478\n",
              "5   0.24  0.017851  0.366853  0.067233  0.077987\n",
              "6   0.24  0.017851  0.367784  0.067572  0.077673\n",
              "7   0.26  0.017904  0.378957  0.069779  0.079560\n",
              "8   0.22  0.017904  0.360335  0.064177  0.078302\n",
              "9   0.23  0.017957  0.372439  0.068761  0.075157"
            ]
          },
          "metadata": {
            "tags": []
          },
          "execution_count": 50
        }
      ]
    },
    {
      "cell_type": "code",
      "metadata": {
        "id": "UolIQ4usZ67T"
      },
      "source": [
        "#-------para tres dimensiones\n",
        "features3 = datoReducidos[[\"X\",\"Y\", \"Z\"]]\n",
        "labels3 = datoReducidos['PRICE']\n",
        "\n"
      ],
      "execution_count": 51,
      "outputs": []
    },
    {
      "cell_type": "code",
      "metadata": {
        "id": "T9hoHmZBZoR4"
      },
      "source": [
        "X_train3,X_test3, y_train3, y_test3 = train_test_split(features3, labels3, random_state =30)"
      ],
      "execution_count": 52,
      "outputs": []
    },
    {
      "cell_type": "markdown",
      "metadata": {
        "id": "LF0wkL6E9DOq"
      },
      "source": [
        "### **PARA TRES DIMENSIONES**"
      ]
    },
    {
      "cell_type": "code",
      "metadata": {
        "id": "LiHHmAzSEeya"
      },
      "source": [
        "lr3 = LinearRegression().fit(X_train3, y_train3)"
      ],
      "execution_count": 53,
      "outputs": []
    },
    {
      "cell_type": "code",
      "metadata": {
        "colab": {
          "base_uri": "https://localhost:8080/"
        },
        "id": "lPuIg3zAEn8Q",
        "outputId": "26024a4e-b40b-486e-d477-410c105716db"
      },
      "source": [
        "lr3.score(X_train3, y_train3)\n"
      ],
      "execution_count": 54,
      "outputs": [
        {
          "output_type": "execute_result",
          "data": {
            "text/plain": [
              "0.7849154329338643"
            ]
          },
          "metadata": {
            "tags": []
          },
          "execution_count": 54
        }
      ]
    },
    {
      "cell_type": "code",
      "metadata": {
        "colab": {
          "base_uri": "https://localhost:8080/"
        },
        "id": "alunjm59ErVL",
        "outputId": "0ef04230-c65c-4fd6-bc14-04f5d7195810"
      },
      "source": [
        "lr3.score(X_test3, y_test3)"
      ],
      "execution_count": 55,
      "outputs": [
        {
          "output_type": "execute_result",
          "data": {
            "text/plain": [
              "0.7753945861679741"
            ]
          },
          "metadata": {
            "tags": []
          },
          "execution_count": 55
        }
      ]
    },
    {
      "cell_type": "markdown",
      "metadata": {
        "id": "ZtUVNsS_8-3f"
      },
      "source": [
        "### **PARA CUATRO DIMENSIONES**"
      ]
    },
    {
      "cell_type": "code",
      "metadata": {
        "id": "46SFZdW-JAzR"
      },
      "source": [
        "#Para cuatro dimensiones\n",
        "features4 = datoReducidos[[\"X\",\"Y\", \"Z\", \"carat\"]]\n",
        "labels4 = datoReducidos['PRICE']"
      ],
      "execution_count": 56,
      "outputs": []
    },
    {
      "cell_type": "code",
      "metadata": {
        "id": "7B4wnNdXJCex"
      },
      "source": [
        "X_train4,X_test4, y_train4, y_test4 = train_test_split(features4, labels4, random_state = 13)"
      ],
      "execution_count": 57,
      "outputs": []
    },
    {
      "cell_type": "code",
      "metadata": {
        "id": "WfcgFeN89MXB"
      },
      "source": [
        "lr4 = LinearRegression().fit(X_train4, y_train4)"
      ],
      "execution_count": 58,
      "outputs": []
    },
    {
      "cell_type": "code",
      "metadata": {
        "id": "5H52sG_w9Md0",
        "colab": {
          "base_uri": "https://localhost:8080/"
        },
        "outputId": "bdaeb759-f2c4-4efa-fc2c-81edb5e51bda"
      },
      "source": [
        "lr4.score(X_train4, y_train4)"
      ],
      "execution_count": 59,
      "outputs": [
        {
          "output_type": "execute_result",
          "data": {
            "text/plain": [
              "0.855332063841813"
            ]
          },
          "metadata": {
            "tags": []
          },
          "execution_count": 59
        }
      ]
    },
    {
      "cell_type": "code",
      "metadata": {
        "id": "Hnf9lDSJ9Wqo",
        "colab": {
          "base_uri": "https://localhost:8080/"
        },
        "outputId": "6b6537c1-5995-4782-caba-aa0b51c390a4"
      },
      "source": [
        "lr4.score(X_test4, y_test4)"
      ],
      "execution_count": 60,
      "outputs": [
        {
          "output_type": "execute_result",
          "data": {
            "text/plain": [
              "0.8500740101487542"
            ]
          },
          "metadata": {
            "tags": []
          },
          "execution_count": 60
        }
      ]
    },
    {
      "cell_type": "markdown",
      "metadata": {
        "id": "9qmwAAB8K9I6"
      },
      "source": [
        "## AHORA, apliquen uno de los dos modelos regresión o vecino más cercano a los datos del diabetes. "
      ]
    }
  ]
}